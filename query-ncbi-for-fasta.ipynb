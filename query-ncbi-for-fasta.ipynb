{
 "cells": [
  {
   "cell_type": "code",
   "execution_count": 6,
   "metadata": {},
   "outputs": [
    {
     "name": "stdout",
     "output_type": "stream",
     "text": [
      "Found 1522 unique NCBI IDs of type ['VP', 'VT']\n"
     ]
    },
    {
     "name": "stderr",
     "output_type": "stream",
     "text": [
      "Fetching FASTA: 100%|██████████| 1522/1522 [10:28<00:00,  2.42it/s]"
     ]
    },
    {
     "name": "stdout",
     "output_type": "stream",
     "text": [
      "Downloaded 1522 unique protein sequences.\n",
      "Wrote sequences to data/all_virus_proteins.fasta\n"
     ]
    },
    {
     "name": "stderr",
     "output_type": "stream",
     "text": [
      "\n"
     ]
    }
   ],
   "source": [
    "import pandas as pd\n",
    "from Bio import Entrez\n",
    "from Bio import SeqIO\n",
    "from tqdm import tqdm\n",
    "import time\n",
    "\n",
    "# ---- Parameters ---- #\n",
    "EXCEL_FILE = \"data/RITA_and_ABT_pos_selection_screens.xlsx\"\n",
    "SHEET_NAME = \"RITA\"\n",
    "TYPE_FILTER = [\"VP\", \"VT\"]\n",
    "ID_COLUMN = \"NCBI_id\"\n",
    "TYPE_COLUMN = \"type\"\n",
    "OUTPUT_FASTA = \"data/all_virus_proteins.fasta\"\n",
    "ENTREZ_EMAIL = \"phitro@bu.edu\"  \n",
    "ENTREZ_API_KEY = \"9bb9af72db60905930367f8f543e5ef0d108\"       \n",
    "\n",
    "# ---- Load Data ---- #\n",
    "df = pd.read_excel(EXCEL_FILE, sheet_name=SHEET_NAME, engine=\"openpyxl\")\n",
    "filtered = df[df[TYPE_COLUMN].isin(TYPE_FILTER)]\n",
    "unique_ids = sorted(filtered[ID_COLUMN].dropna().astype(str).unique())\n",
    "\n",
    "print(f\"Found {len(unique_ids)} unique NCBI IDs of type {TYPE_FILTER}\")\n",
    "\n",
    "# ---- Set up Entrez ---- #\n",
    "Entrez.email = ENTREZ_EMAIL\n",
    "if ENTREZ_API_KEY:\n",
    "    Entrez.api_key = ENTREZ_API_KEY\n",
    "\n",
    "# ---- Download FASTA sequences ---- #\n",
    "seqs = {}\n",
    "for ncbi_id in tqdm(unique_ids, desc=\"Fetching FASTA\"):\n",
    "    try:\n",
    "        # Try protein database first (most likely)\n",
    "        handle = Entrez.efetch(db=\"protein\", id=ncbi_id, rettype=\"fasta\", retmode=\"text\")\n",
    "        records = list(SeqIO.parse(handle, \"fasta\"))\n",
    "        handle.close()\n",
    "        if records:\n",
    "            for rec in records:\n",
    "                rec.id = f\"{ncbi_id}|{rec.id}\"      # FASTA header = NCBI_id|original_id\n",
    "                # Deduplicate by new ID/sequence\n",
    "                seqs[(rec.id, str(rec.seq))] = rec\n",
    "        else:\n",
    "            print(f\"ID {ncbi_id}: No sequences found.\")\n",
    "    except Exception as e:\n",
    "        print(f\"Failed for ID: {ncbi_id}\\nError: {e}\")\n",
    "    time.sleep(0.11)  # NCBI: <=10/sec with API key, <=3/sec without\n",
    "\n",
    "all_seq_records = [v for v in seqs.values()]\n",
    "print(f\"Downloaded {len(all_seq_records)} unique protein sequences.\")\n",
    "\n",
    "# ---- Write to single FASTA file ---- #\n",
    "with open(OUTPUT_FASTA, \"w\") as out_handle:\n",
    "    SeqIO.write(all_seq_records, out_handle, \"fasta\")\n",
    "\n",
    "print(f\"Wrote sequences to {OUTPUT_FASTA}\")"
   ]
  }
 ],
 "metadata": {
  "kernelspec": {
   "display_name": "jupyter_env",
   "language": "python",
   "name": "python3"
  },
  "language_info": {
   "codemirror_mode": {
    "name": "ipython",
    "version": 3
   },
   "file_extension": ".py",
   "mimetype": "text/x-python",
   "name": "python",
   "nbconvert_exporter": "python",
   "pygments_lexer": "ipython3",
   "version": "3.13.7"
  }
 },
 "nbformat": 4,
 "nbformat_minor": 2
}
