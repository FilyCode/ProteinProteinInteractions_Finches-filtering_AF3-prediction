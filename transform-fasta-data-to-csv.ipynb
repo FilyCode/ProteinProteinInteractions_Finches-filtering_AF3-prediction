{
 "cells": [
  {
   "cell_type": "code",
   "execution_count": 2,
   "metadata": {},
   "outputs": [
    {
     "name": "stdout",
     "output_type": "stream",
     "text": [
      "\n",
      "Data successfully extracted and saved to 'data/Human-proteom_GCF_000001405.40.csv'\n"
     ]
    }
   ],
   "source": [
    "import pandas as pd\n",
    "\n",
    "fasta_file_path = 'data/Human-proteom_GCF_000001405.40.faa'\n",
    "output_csv_file_path = 'data/Human-proteom_GCF_000001405.40.csv'\n",
    "\n",
    "ids = []\n",
    "aminoacids = []\n",
    "\n",
    "current_id = None\n",
    "current_sequence_lines = []\n",
    "\n",
    "with open(fasta_file_path, 'r') as f:\n",
    "    for line in f:\n",
    "        line = line.strip() # Remove leading/trailing whitespace, including newlines\n",
    "        if not line: # Skip empty lines\n",
    "            continue\n",
    "\n",
    "        if line.startswith('>'):\n",
    "            # If we've already collected a sequence, store it\n",
    "            if current_id is not None:\n",
    "                ids.append(current_id)\n",
    "                aminoacids.append(\"\".join(current_sequence_lines))\n",
    "            \n",
    "            # Start new entry: Extract ID (e.g., NP_000006.2)\n",
    "            current_id = line[1:].split(' ')[0] \n",
    "            current_sequence_lines = [] # Reset sequence for the new entry\n",
    "        else:\n",
    "            # Append sequence line (without spaces/newlines)\n",
    "            current_sequence_lines.append(line)\n",
    "    \n",
    "    # After the loop, ensure the last entry is stored\n",
    "    if current_id is not None:\n",
    "        ids.append(current_id)\n",
    "        aminoacids.append(\"\".join(current_sequence_lines))\n",
    "\n",
    "# --- Create DataFrame ---\n",
    "df = pd.DataFrame({\n",
    "    'ID': ids,\n",
    "    'Aminoacids': aminoacids\n",
    "})\n",
    "\n",
    "# Save the DataFrame to a CSV file\n",
    "df.to_csv(output_csv_file_path, index=False) \n",
    "\n",
    "print(f\"\\nData successfully extracted and saved to '{output_csv_file_path}'\")"
   ]
  }
 ],
 "metadata": {
  "kernelspec": {
   "display_name": "finches-env",
   "language": "python",
   "name": "python3"
  },
  "language_info": {
   "codemirror_mode": {
    "name": "ipython",
    "version": 3
   },
   "file_extension": ".py",
   "mimetype": "text/x-python",
   "name": "python",
   "nbconvert_exporter": "python",
   "pygments_lexer": "ipython3",
   "version": "3.12.11"
  }
 },
 "nbformat": 4,
 "nbformat_minor": 2
}
